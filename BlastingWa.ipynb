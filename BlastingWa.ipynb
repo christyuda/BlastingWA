{
  "nbformat": 4,
  "nbformat_minor": 0,
  "metadata": {
    "colab": {
      "provenance": [],
      "authorship_tag": "ABX9TyMq9rNZaCwFrSpKN41Y7fJa",
      "include_colab_link": true
    },
    "kernelspec": {
      "name": "python3",
      "display_name": "Python 3"
    },
    "language_info": {
      "name": "python"
    }
  },
  "cells": [
    {
      "cell_type": "markdown",
      "metadata": {
        "id": "view-in-github",
        "colab_type": "text"
      },
      "source": [
        "<a href=\"https://colab.research.google.com/github/christyuda/BlastingWA/blob/main/BlastingWa.ipynb\" target=\"_parent\"><img src=\"https://colab.research.google.com/assets/colab-badge.svg\" alt=\"Open In Colab\"/></a>"
      ]
    },
    {
      "cell_type": "code",
      "source": [
        "!pip install pandas openpyxl\n"
      ],
      "metadata": {
        "colab": {
          "base_uri": "https://localhost:8080/"
        },
        "id": "MaBNYOfEXTq9",
        "outputId": "0db04546-27ab-4e1e-eba2-214cdce7fdf1"
      },
      "execution_count": 6,
      "outputs": [
        {
          "output_type": "stream",
          "name": "stdout",
          "text": [
            "Requirement already satisfied: pandas in /usr/local/lib/python3.10/dist-packages (1.5.3)\n",
            "Requirement already satisfied: openpyxl in /usr/local/lib/python3.10/dist-packages (3.1.2)\n",
            "Requirement already satisfied: python-dateutil>=2.8.1 in /usr/local/lib/python3.10/dist-packages (from pandas) (2.8.2)\n",
            "Requirement already satisfied: pytz>=2020.1 in /usr/local/lib/python3.10/dist-packages (from pandas) (2023.3.post1)\n",
            "Requirement already satisfied: numpy>=1.21.0 in /usr/local/lib/python3.10/dist-packages (from pandas) (1.23.5)\n",
            "Requirement already satisfied: et-xmlfile in /usr/local/lib/python3.10/dist-packages (from openpyxl) (1.1.0)\n",
            "Requirement already satisfied: six>=1.5 in /usr/local/lib/python3.10/dist-packages (from python-dateutil>=2.8.1->pandas) (1.16.0)\n"
          ]
        }
      ]
    },
    {
      "cell_type": "code",
      "source": [
        "# Install the required libraries\n",
        "\n",
        "# Import the libraries\n",
        "import pandas as pd\n",
        "\n",
        "# Load the first Excel file\n",
        "file1 = 'datafltb1.csv'  # Change this to the actual path\n",
        "df1 = pd.read_csv(file1)\n",
        "desc = df1.dtypes\n",
        "\n",
        "# Load the second Excel file\n",
        "file2 = 'datasemuamahasiswa2023fix.csv'  # Change this to the actual path\n",
        "df2 = pd.read_csv(file2)\n",
        "df2['NPM'] = pd.to_numeric(df2['NPM'], errors='coerce', downcast='integer')\n",
        "df2['NPM'] = df2['NPM'].astype('Int64')\n",
        "desc2 = df2.dtypes\n",
        "df2['NPM'].fillna(-1, inplace=True)\n",
        "# print(df2)\n",
        "\n",
        "\n",
        "# Merge the dataframes based on the 'no' and 'npm' columns\n",
        "merged_df = pd.merge(df1, df2, on=['NPM'] , how='left')\n",
        "merged_df = merged_df.drop_duplicates(subset=['NPM', 'Nama'])\n",
        "\n",
        "\n",
        "# Display the merged dataframe\n",
        "print(merged_df)\n",
        "print(desc)\n",
        "print(desc2)\n",
        "\n",
        "# Save the merged dataframe to a new Excel file\n",
        "output_file = 'merged_data_fltb.xlsx'  # Change this to the desired output path\n",
        "merged_df.to_excel(output_file, index=False)"
      ],
      "metadata": {
        "colab": {
          "base_uri": "https://localhost:8080/"
        },
        "id": "CNYS5luBaOQU",
        "outputId": "7d6c0be4-d38e-48a1-dc10-bbf94992c147"
      },
      "execution_count": 69,
      "outputs": [
        {
          "output_type": "stream",
          "name": "stdout",
          "text": [
            "      No        NPM                          Nama  \\\n",
            "0      1   16117019      Mochamad Siddik Ramdhani   \n",
            "1      2   16117034   Muhammad Fajar Fathurrahman   \n",
            "2      3   16117082           Nethanael Ericson     \n",
            "3      4   16117135        M. Daffa Ridho Pratama   \n",
            "4      5   13117035    Reinitha Jasmine Ferdinand   \n",
            "..   ...        ...                           ...   \n",
            "365  366  185230014  Muhammad Adin Lambang Garuda   \n",
            "366  367  185230015           Nony Azurah Anaflin   \n",
            "367  368  185230017              Syifa Faturohman   \n",
            "368  369  185230019      Sulthan Zaki Noer Fathir   \n",
            "369  370  185230020                   Mugi Triana   \n",
            "\n",
            "                            Jurusan    Data Tagihan  \\\n",
            "0        S1 Manajemen Logistik 2017   Rp 1.250.000    \n",
            "1        S1 Manajemen Logistik 2017   Rp 1.250.000    \n",
            "2        S1 Manajemen Logistik 2017   Rp 1.250.000    \n",
            "3        S1 Manajemen Logistik 2017   Rp 2.500.000    \n",
            "4    S1 Manajemen Transportasi 2017   Rp 1.250.000    \n",
            "..                              ...             ...   \n",
            "365      S1 Manajemen Rekayasa 2023   Rp 3.500.000    \n",
            "366      S1 Manajemen Rekayasa 2023   Rp 3.500.000    \n",
            "367      S1 Manajemen Rekayasa 2023   Rp 3.500.000    \n",
            "368      S1 Manajemen Rekayasa 2023   Rp 2.125.000    \n",
            "369      S1 Manajemen Rekayasa 2023   Rp 5.500.000    \n",
            "\n",
            "                   Nama_Mahasiswa                                  email  \n",
            "0        Mochamad Siddik Ramdhani                 mochsiddik45@gmail.com  \n",
            "1     Muhammad Fajar Fathurrahman  Muhammadfajarfathurrahman24@gmail.com  \n",
            "2               Nethanael Ericson           nethanaelericson17@gmail.com  \n",
            "3          M. Daffa Ridho Pratama                  Daffaridh07@gmail.com  \n",
            "4      Reinitha Jasmine Ferdinand          reinithaferdinand98@gmail.com  \n",
            "..                            ...                                    ...  \n",
            "365  Muhammad Adin Lambang Garuda              muhammadadin089@gmail.com  \n",
            "366           Nony Azurah Anaflin                 nonyazurah20@gmail.com  \n",
            "367              Syifa Faturohman                  ftrhmnsyifa@gmail.com  \n",
            "368      Sulthan Zaki Noer Fathir               sultanzaki1933@gmail.com  \n",
            "369                   Mugi Triana                mugitriana435@gmail.com  \n",
            "\n",
            "[370 rows x 7 columns]\n",
            "No               int64\n",
            "NPM              int64\n",
            "Nama            object\n",
            "Jurusan         object\n",
            "Data Tagihan    object\n",
            "dtype: object\n",
            "NPM                Int64\n",
            "Nama_Mahasiswa    object\n",
            "email             object\n",
            "dtype: object\n"
          ]
        }
      ]
    },
    {
      "cell_type": "code",
      "source": [],
      "metadata": {
        "id": "0R8hl2uYUsf2"
      },
      "execution_count": null,
      "outputs": []
    },
    {
      "cell_type": "markdown",
      "source": [
        "# New Section"
      ],
      "metadata": {
        "id": "hSG7hHWwYCX0"
      }
    }
  ]
}